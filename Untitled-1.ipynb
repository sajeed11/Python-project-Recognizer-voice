{
 "cells": [
  {
   "cell_type": "code",
   "execution_count": null,
   "metadata": {},
   "outputs": [],
   "source": [
    "parsecs_input = input(\"Enter the number of parsecs: \")\n",
    "parsecs = int(parsecs_input)\n",
    "lightyears = parsecs * 3.26\n",
    "print(str(parsecs) + \"parsecs is \" + str(lightyears) + \"lightyears\")"
   ]
  }
 ],
 "metadata": {
  "kernelspec": {
   "display_name": "Python 3.10.8 64-bit (microsoft store)",
   "language": "python",
   "name": "python3"
  },
  "language_info": {
   "name": "python",
   "version": "3.10.8 (tags/v3.10.8:aaaf517, Oct 11 2022, 16:50:30) [MSC v.1933 64 bit (AMD64)]"
  },
  "orig_nbformat": 4,
  "vscode": {
   "interpreter": {
    "hash": "7160615a578a0e29b1efcd344db6b4671f504f6cae670cded3dee11aa6f9aa7e"
   }
  }
 },
 "nbformat": 4,
 "nbformat_minor": 2
}
